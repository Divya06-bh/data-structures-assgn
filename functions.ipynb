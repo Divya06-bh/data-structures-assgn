{
  "nbformat": 4,
  "nbformat_minor": 0,
  "metadata": {
    "colab": {
      "provenance": []
    },
    "kernelspec": {
      "name": "python3",
      "display_name": "Python 3"
    },
    "language_info": {
      "name": "python"
    }
  },
  "cells": [
    {
      "cell_type": "markdown",
      "source": [
        "# **THEORATICAL ANSWERS**\n",
        "\n",
        "\n",
        "1. What is the difference between a function and a method in Python?\n",
        "A function in Python is a block of reusable code that performs a specific task and is defined using the def keyword. It can be called independently and is not tied to any object. In contrast, a method is a function that is associated with an object and is called using dot notation (e.g., list.append(4)). Methods are defined inside class definitions and operate on instances of those classes.\n",
        "\n",
        "2. Explain the concept of function arguments and parameters in Python.\n",
        "Parameters are variables listed inside the parentheses in a function definition, while arguments are the actual values passed to the function when it is called. For example, in def add(x, y):, x and y are parameters. When the function is called using add(2, 3), 2 and 3 are the arguments. Python supports different types of arguments such as default, keyword, variable-length (*args, **kwargs), and positional arguments.\n",
        "\n",
        "3. What are the different ways to define and call a function in Python?\n",
        "Functions in Python can be defined using the def keyword or the lambda keyword. The def keyword is used for creating standard functions, while lambda creates anonymous functions. A function is called by writing its name followed by parentheses, with arguments passed inside if required, like add(3, 4). Functions can also be passed as arguments or returned from other functions.\n",
        "4. What is the purpose of the return statement in a Python function?\n",
        "The return statement is used to send the result of a function back to the caller. It allows the function to output data that can be used elsewhere in the program. Without a return statement, a function returns None by default. For example, return x + y in a function will return the sum of x and y when the function is called.\n",
        "5. What are iterators in Python and how do they differ from iterables?\n",
        "An iterator is an object in Python that implements the _iter() and __next_() methods. It allows traversing through all the elements in a sequence one at a time. An iterable is any object capable of returning its members one at a time using an iterator, such as lists, tuples, or strings. You can get an iterator from an iterable using the iter() function.\n",
        "\n",
        "6. Explain the concept of generators in Python and how they are defined.\n",
        "Generators are a type of iterable, like lists or tuples, but they do not store all their values in memory. They are defined like regular functions but use the yield keyword to return values one at a time. When a generator function is called, it returns a generator object that can be iterated over using a loop or the next() function. This makes them memory-efficient for large data sets.\n",
        "\n",
        "7. What are the advantages of using generators over regular functions?\n",
        "Generators are more memory-efficient because they yield one value at a time instead of storing the entire result in memory. They also provide lazy evaluation, meaning values are produced only when needed, which improves performance when working with large data. Additionally, they make code more readable and concise when dealing with complex iterations.\n",
        "\n",
        "8. What is a lambda function in Python and when is it typically used?\n",
        "A lambda function is a small anonymous function defined using the lambda keyword. It can take any number of arguments but only one expression. It's typically used for short, throwaway functions in cases like sorting, filtering, or mapping, where defining a full function would be unnecessary. Example: lambda x: x + 10.\n",
        "9. Explain the purpose and usage of the map() function in Python.\n",
        "The map() function is used to apply a given function to all items in an iterable (like a list or tuple) and returns a map object (an iterator). It simplifies processing elements without using an explicit loop. For example, map(lambda x: x*2, [1, 2, 3]) returns [2, 4, 6] when converted to a list.\n",
        "10. What is the difference between map(), reduce(), and filter() functions in Python?\n",
        "The map() function applies a function to each item in an iterable and returns the results. The filter() function filters elements from an iterable based on a condition, returning only those that satisfy it. The reduce() function, from the functools module, applies a function cumulatively to the items in an iterable to reduce them to a single value. For example, summing a list or multiplying all elements.\n",
        "11. Using pen & paper write the internal mechanism for sum operation using reduce function on this given list: [47, 11, 42, 13];\n",
        "To use reduce() on the list [47, 11, 42, 13] for a sum operation with lambda x, y: x + y, the steps would be:\n",
        "Step 1: 47 + 11 = 58\n",
        "Step 2: 58 + 42 = 100\n",
        "Step 3: 100 + 13 = 113\n",
        "So, the final result is 113. You need to show these steps clearly on paper and upload an image of it as instructed.\n"
      ],
      "metadata": {
        "id": "csA9os6Ojjws"
      }
    },
    {
      "cell_type": "code",
      "source": [
        "#practical answers\n",
        "#ques1:\n",
        "def sum_of_evens(numbers):\n",
        "  return sum(num for num in numbers if num % 2 == 0)\n",
        "\n",
        "sum_of_evens([1, 2, 3, 4, 5, 6])\n"
      ],
      "metadata": {
        "colab": {
          "base_uri": "https://localhost:8080/"
        },
        "id": "uJuCE0p6keRI",
        "outputId": "c99928d7-50b5-4118-ae11-7260812f9d42"
      },
      "execution_count": 3,
      "outputs": [
        {
          "output_type": "execute_result",
          "data": {
            "text/plain": [
              "12"
            ]
          },
          "metadata": {},
          "execution_count": 3
        }
      ]
    },
    {
      "cell_type": "code",
      "source": [
        "#ques2\n",
        "def reverse_string(s):\n",
        "  return s[::-1]\n",
        "\n",
        "reverse_string(\"hello\")"
      ],
      "metadata": {
        "colab": {
          "base_uri": "https://localhost:8080/",
          "height": 35
        },
        "id": "v45-O-_Sk7B0",
        "outputId": "2f50b3dd-f21c-4564-9d04-b4543a0fa757"
      },
      "execution_count": 4,
      "outputs": [
        {
          "output_type": "execute_result",
          "data": {
            "text/plain": [
              "'olleh'"
            ],
            "application/vnd.google.colaboratory.intrinsic+json": {
              "type": "string"
            }
          },
          "metadata": {},
          "execution_count": 4
        }
      ]
    },
    {
      "cell_type": "code",
      "source": [
        "#ques 3\n",
        "def sqaure_list(numbers):\n",
        "  return [num ** 2 for num in numbers]\n",
        "\n",
        "sqaure_list([1, 2, 3, 4, 5])"
      ],
      "metadata": {
        "colab": {
          "base_uri": "https://localhost:8080/"
        },
        "id": "s4Zcprc0lRKI",
        "outputId": "29d563f0-8641-4231-8b32-c846039b40f2"
      },
      "execution_count": 5,
      "outputs": [
        {
          "output_type": "execute_result",
          "data": {
            "text/plain": [
              "[1, 4, 9, 16, 25]"
            ]
          },
          "metadata": {},
          "execution_count": 5
        }
      ]
    },
    {
      "cell_type": "code",
      "source": [
        "#ques4\n",
        "def is_prime(n):\n",
        "  if n < 2 or n > 200:\n",
        "    return False\n",
        "  for i in range(2, int(n ** 0.5)+1):\n",
        "    if n % i == 0:\n",
        "      return False\n",
        "  return True\n",
        "\n",
        "is_prime(17)"
      ],
      "metadata": {
        "colab": {
          "base_uri": "https://localhost:8080/"
        },
        "id": "TplXdqL3lbvG",
        "outputId": "8ff8a6ed-99fe-40da-9007-5fe9b0de60af"
      },
      "execution_count": 7,
      "outputs": [
        {
          "output_type": "execute_result",
          "data": {
            "text/plain": [
              "True"
            ]
          },
          "metadata": {},
          "execution_count": 7
        }
      ]
    },
    {
      "cell_type": "code",
      "source": [
        "#ques5\n",
        "class FibonacciIterator:\n",
        "    def _init_(self, n):\n",
        "        self.n = n\n",
        "        self.a, self.b = 0, 1\n",
        "        self.count = 0\n",
        "\n",
        "    def _iter_(self):\n",
        "        return self\n",
        "\n",
        "    def _next_(self):\n",
        "        if self.count >= self.n:\n",
        "            raise StopIteration\n",
        "        self.a, self.b = self.b, self.a + self.b\n",
        "        self.count += 1\n",
        "        return self.a\n",
        "\n"
      ],
      "metadata": {
        "id": "49lIYKDgl3nf"
      },
      "execution_count": 10,
      "outputs": []
    },
    {
      "cell_type": "code",
      "source": [
        "#ques6\n",
        "def powers_of_two(limit):\n",
        "  for i in range(limit + 1):\n",
        "    yield 2 ** i\n",
        "\n",
        "powers_of_two(5)"
      ],
      "metadata": {
        "colab": {
          "base_uri": "https://localhost:8080/"
        },
        "id": "zcIrA2DomFTB",
        "outputId": "d6cecf05-8978-4bd0-828c-7656963c1952"
      },
      "execution_count": 11,
      "outputs": [
        {
          "output_type": "execute_result",
          "data": {
            "text/plain": [
              "<generator object powers_of_two at 0x7a76b06aeb20>"
            ]
          },
          "metadata": {},
          "execution_count": 11
        }
      ]
    },
    {
      "cell_type": "code",
      "source": [
        "#ques7\n",
        "def read_file_lines(filename):\n",
        "  with open(filename, 'r')as file:\n",
        "    for line in file:\n",
        "      yield line.strip()\n"
      ],
      "metadata": {
        "id": "jy4V5pWHmaS1"
      },
      "execution_count": 13,
      "outputs": []
    },
    {
      "cell_type": "code",
      "source": [
        "#ques8\n",
        "tuples_list = [(1,4),(3,2),(5,1)]\n",
        "sorted_list = sorted(tuples_list, key = lambda x: x[1])\n",
        "print(sorted_list)"
      ],
      "metadata": {
        "colab": {
          "base_uri": "https://localhost:8080/"
        },
        "id": "HjzgMAcXmtSm",
        "outputId": "caa2cadd-893a-4696-c95b-354d92de885f"
      },
      "execution_count": 15,
      "outputs": [
        {
          "output_type": "stream",
          "name": "stdout",
          "text": [
            "[(5, 1), (3, 2), (1, 4)]\n"
          ]
        }
      ]
    },
    {
      "cell_type": "code",
      "source": [
        "#ques9\n",
        "celsius = [0,20,37,100]\n",
        "fahrenheit = list(map(lambda c: (c * 9/5) + 32, celsius))\n",
        "print(fahrenheit)"
      ],
      "metadata": {
        "colab": {
          "base_uri": "https://localhost:8080/"
        },
        "id": "GWmybLQmnEEd",
        "outputId": "5e53793b-f17f-443f-ef25-eb7718b9534a"
      },
      "execution_count": 16,
      "outputs": [
        {
          "output_type": "stream",
          "name": "stdout",
          "text": [
            "[32.0, 68.0, 98.6, 212.0]\n"
          ]
        }
      ]
    },
    {
      "cell_type": "code",
      "source": [
        "#ques10\n",
        "def remove_vowels(string):\n",
        "  vowels = 'aeiouAEIOU'\n",
        "  return ''.join(filter(lambda x: x not in vowels, string))\n",
        "\n",
        "print(remove_vowels(\"hello world\"))"
      ],
      "metadata": {
        "colab": {
          "base_uri": "https://localhost:8080/"
        },
        "id": "djijflRTngNz",
        "outputId": "c046002c-b214-458b-d8c5-25753bc6b4b9"
      },
      "execution_count": 19,
      "outputs": [
        {
          "output_type": "stream",
          "name": "stdout",
          "text": [
            "hll wrld\n"
          ]
        }
      ]
    },
    {
      "cell_type": "code",
      "source": [
        "#ques11\n",
        "orders = orders = [\n",
        "    [34587, \"Learning Python, Mark Lutz\", 4, 40.95],\n",
        "    [98762, \"Programming Python, Mark Lutz\", 5, 56.80],\n",
        "    [77226, \"Head First Python, Paul Barry\", 3, 32.95],\n",
        "    [88112, \"Einführung in Python3, Bernd Klein\", 3, 24.99]\n",
        "]\n",
        "\n",
        "# Compute total price and apply rule for < 100\n",
        "result = list(map(lambda order:\n",
        "    (order[0], order[2] * order[3] if order[2] * order[3] >= 100\n",
        "     else order[2] * order[3] + 10), orders))\n",
        "\n",
        "print(result)"
      ],
      "metadata": {
        "colab": {
          "base_uri": "https://localhost:8080/"
        },
        "id": "2fkJJZVCn3wq",
        "outputId": "f8d63afd-a6dd-41eb-9057-d7799d44ba24"
      },
      "execution_count": 20,
      "outputs": [
        {
          "output_type": "stream",
          "name": "stdout",
          "text": [
            "[(34587, 163.8), (98762, 284.0), (77226, 108.85000000000001), (88112, 84.97)]\n"
          ]
        }
      ]
    },
    {
      "cell_type": "code",
      "source": [],
      "metadata": {
        "id": "MeMSUq7kolhn"
      },
      "execution_count": null,
      "outputs": []
    }
  ]
}