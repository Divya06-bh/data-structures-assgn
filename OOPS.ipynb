{
  "nbformat": 4,
  "nbformat_minor": 0,
  "metadata": {
    "colab": {
      "provenance": []
    },
    "kernelspec": {
      "name": "python3",
      "display_name": "Python 3"
    },
    "language_info": {
      "name": "python"
    }
  },
  "cells": [
    {
      "cell_type": "markdown",
      "source": [
        "# **THEORATICAL ANSWERS**\n",
        "\n",
        "1. What is Object-Oriented Programming (OOP)?\n",
        "Object-Oriented Programming (OOP) is a programming paradigm that organizes software design around data, or objects, rather than functions and logic. In OOP, objects are instances of classes, which are blueprints for creating objects. OOP focuses on four main principles: encapsulation, abstraction, inheritance, and polymorphism. These help make code more modular, reusable, and easier to maintain.\n",
        "\n",
        "2. What is a class in OOP?\n",
        "A class in OOP is a blueprint or template for creating objects. It defines attributes (variables) and behaviors (methods) that the objects created from the class can have. For example, a Car class might define attributes like color and model, and methods like start() or brake().\n",
        "\n",
        "3. What is an object in OOP?\n",
        "An object is an instance of a class. It represents a real-world entity that contains both data (attributes) and methods (functions). For example, if Car is a class, then my_car = Car() creates an object my_car that follows the structure of the Car class.\n",
        "\n",
        "4. What is the difference between abstraction and encapsulation?\n",
        "Abstraction is the concept of hiding complex implementation details and showing only the essential features of an object. Encapsulation, on the other hand, is the process of wrapping data and methods that work on that data within a single unit (class) and restricting access to some components. Abstraction focuses on what an object does, while encapsulation focuses on how it is done and protecting the data.\n",
        "\n",
        "5. What are dunder methods in Python?\n",
        "Dunder methods, short for “double underscore” methods, are special methods in Python that start and end with double underscores. Examples include _init(), __str(), and __len_(). These methods are used to define how objects behave with built-in Python functions or operators.\n",
        "\n",
        "6. Explain the concept of inheritance in OOP.\n",
        "Inheritance allows one class (child class) to acquire the properties and methods of another class (parent class). This promotes code reusability and enables hierarchical classifications. For example, a Dog class can inherit from an Animal class and gain its attributes like eat() and sleep().\n",
        "\n",
        "7. What is polymorphism in OOP?\n",
        "Polymorphism means “many forms.” It allows objects of different classes to be treated as objects of a common parent class. A common use of polymorphism is having different classes implement the same method in different ways. For example, both Cat and Dog classes might have a speak() method, but they return different outputs.\n",
        "\n",
        "8. How is encapsulation achieved in Python?\n",
        "Encapsulation in Python is achieved using classes and access modifiers. Variables can be made private by prefixing them with an underscore () or double underscore (_). Getter and setter methods can then be used to access and modify private data safely.\n",
        "\n",
        "9. What is a constructor in Python?\n",
        "A constructor in Python is a special method called _init_() that is automatically called when a new object is created from a class. It is used to initialize the object’s attributes. For example:\n",
        "\n",
        "class Person:  \n",
        "    def _init_(self, name):  \n",
        "        self.name = name\n",
        "\n",
        "10. What are class and static methods in Python?\n",
        "Class methods are defined using the @classmethod decorator and take cls as the first parameter. They can access and modify class-level attributes. Static methods, defined using @staticmethod, do not take self or cls as arguments and cannot access class or instance data. They behave like regular functions within a class.\n",
        "\n",
        "11. What is method overloading in Python?\n",
        "Method overloading refers to defining multiple methods with the same name but different parameters. Python does not support true method overloading, but it can be mimicked by using default arguments or variable-length arguments (*args, **kwargs).\n",
        "\n",
        "12. What is method overriding in OOP?\n",
        "Method overriding occurs when a child class provides its own implementation of a method that is already defined in its parent class. This allows the child class to customize or completely replace the behavior of the inherited method.\n",
        "\n",
        "13. What is a property decorator in Python?\n",
        "A property decorator (@property) in Python is used to define a method that can be accessed like an attribute. It is commonly used to implement getter methods. You can also use @<property>.setter to define a setter for that property.\n",
        "\n",
        "14. Why is polymorphism important in OOP?\n",
        "Polymorphism is important because it allows functions and methods to use objects of different types interchangeably. This improves code flexibility and makes it easier to extend or modify behavior without changing existing code.\n",
        "Here are the answers to questions 15 to 25 from the second image, explained in simple and clear paragraphs:\n",
        "\n",
        "15. What is an abstract class in Python?\n",
        "An abstract class in Python is a class that cannot be instantiated directly. It is used as a base class for other classes and can contain abstract methods—methods that are declared but have no implementation. Python provides the ABC module (Abstract Base Class) to create abstract classes using the @abstractmethod decorator.\n",
        "\n",
        "\n",
        "---\n",
        "\n",
        "16. What are the advantages of OOP?\n",
        "Object-Oriented Programming offers many advantages, such as code reusability through inheritance, better code organization using classes, modularity, improved maintainability, data hiding through encapsulation, and flexibility through polymorphism. It allows large programs to be broken down into smaller, manageable parts.\n",
        "\n",
        "\n",
        "---\n",
        "\n",
        "17. What is the difference between a class variable and an instance variable?\n",
        "A class variable is shared among all instances of a class, meaning it has the same value for every object of that class. An instance variable, on the other hand, is specific to each object and can have different values in different instances. Class variables are declared inside the class but outside any method, while instance variables are usually defined inside the constructor using self.\n",
        "\n",
        "\n",
        "---\n",
        "\n",
        "18. What is multiple inheritance in Python?\n",
        "Multiple inheritance is a feature in Python where a class can inherit from more than one parent class. This allows the child class to inherit the attributes and methods of multiple classes. Python handles method conflicts in multiple inheritance using the Method Resolution Order (MRO).\n",
        "\n",
        "\n",
        "---\n",
        "\n",
        "19. Explain the purpose of _str_ and _repr_ methods in Python.\n",
        "The _str() method returns a readable, user-friendly string representation of an object, often used for printing. The __repr() method returns an official string representation of an object, typically used for debugging and development. If only __repr() is defined, it is used as a fallback for __str_().\n",
        "\n",
        "\n",
        "---\n",
        "\n",
        "20. What is the significance of the super() function in Python?\n",
        "The super() function in Python is used to call methods from a parent class. It is commonly used in inheritance to call the constructor or other methods of the superclass, ensuring that the base class is properly initialized or its logic is reused without explicitly naming it.\n",
        "\n",
        "\n",
        "---\n",
        "\n",
        "21. What is the significance of the _del_ method in Python?\n",
        "The _del_() method is a destructor in Python, which is called automatically when an object is about to be destroyed. It is used to perform clean-up tasks such as closing files or releasing resources. However, its use is discouraged in most cases because its execution is not guaranteed.\n",
        "\n",
        "\n",
        "---\n",
        "\n",
        "22. What is the difference between @staticmethod and @classmethod in Python?\n",
        "A @staticmethod is a method that does not receive any reference to the instance (self) or the class (cls). It behaves like a regular function placed inside a class. A @classmethod, on the other hand, receives the class (cls) as the first argument and can access or modify class-level data.\n",
        "\n",
        "\n",
        "---\n",
        "\n",
        "23. How does polymorphism work in Python with inheritance?\n",
        "In Python, polymorphism allows the same method name to be used in different classes that are related by inheritance. For example, if a parent class defines a method and child classes override it, you can call that method on any subclass object, and the correct version will be invoked based on the object’s class.\n",
        "\n",
        "\n",
        "---\n",
        "\n",
        "24. What is method chaining in Python OOP?\n",
        "Method chaining is a programming technique in which multiple methods are called on the same object in a single line. This is achieved by having methods return self (the current object) so that other methods can be called on it. It improves code readability and fluency.\n",
        "\n",
        "\n",
        "---\n",
        "\n",
        "25. What is the purpose of the _call_ method in Python?\n",
        "The _call_() method allows an object to be called like a function. When an instance of a class implements this method, you can use the object as if it were a function. This is useful for creating callable objects or wrappers.\n"
      ],
      "metadata": {
        "id": "GXh5mTPsnCrx"
      }
    },
    {
      "cell_type": "code",
      "source": [
        "#practical answers\n",
        "\n",
        "#ques1\n",
        "class Animal:\n",
        "  def speak(self):\n",
        "    print(\"this animal makes a sound.\")\n",
        "\n",
        "class Dog(Animal):\n",
        "  def speak(self):\n",
        "    print(\"bark\")\n",
        "\n",
        "a = Animal()\n",
        "a.speak()\n",
        "d = Dog()\n",
        "d.speak()"
      ],
      "metadata": {
        "colab": {
          "base_uri": "https://localhost:8080/"
        },
        "id": "mlbdO9QvoQZc",
        "outputId": "4b2d979d-e8f3-4167-8db4-367a410ec195"
      },
      "execution_count": null,
      "outputs": [
        {
          "output_type": "stream",
          "name": "stdout",
          "text": [
            "this animal makes a sound.\n",
            "bark\n"
          ]
        }
      ]
    },
    {
      "cell_type": "code",
      "source": [
        "#ques2\n",
        "from abc import ABC, abstractmethod\n",
        "class Shape(ABC):\n",
        "  @abstractmethod\n",
        "  def area(self):\n",
        "    pass\n",
        "class Circle(Shape):\n",
        "  def __init__(self,radius):\n",
        "    self.radius = radius\n",
        "  def area(self):\n",
        "    return 3.14*(self.radius**2)\n",
        "class Rectangle(Shape):\n",
        "  def __init__(self,length,width):\n",
        "    self.length = length\n",
        "    self.width = width\n",
        "  def area(self):\n",
        "    return self.length*self.width\n",
        "\n",
        "c = Circle(5)\n",
        "print(c.area())\n",
        "r = Rectangle(4,6)\n",
        "print(r.area())\n"
      ],
      "metadata": {
        "colab": {
          "base_uri": "https://localhost:8080/"
        },
        "id": "sTLfO_gUo9Q4",
        "outputId": "b3e93ab2-c533-40b6-e4ae-673a4b7bd8b9"
      },
      "execution_count": null,
      "outputs": [
        {
          "output_type": "stream",
          "name": "stdout",
          "text": [
            "78.5\n",
            "24\n"
          ]
        }
      ]
    },
    {
      "cell_type": "code",
      "source": [
        "#ques3\n",
        "class Vehicle:\n",
        "  def __init__(self,type):\n",
        "    self.type = type\n",
        "class Car(Vehicle):\n",
        "  def __init__(self,type,brand):\n",
        "    super().__init__(type)\n",
        "    self.brand= brand\n",
        "class Electric(Car):\n",
        "  def __init__(self,type,brand,battery_size):\n",
        "    super().__init__(type,brand)\n",
        "    self.battery_size = battery_size\n",
        "e= Electric(\"car\",\"tesla\",100)\n",
        "print(e.type,e.brand,e.battery_size)"
      ],
      "metadata": {
        "id": "EMKTizaZp4Eu",
        "colab": {
          "base_uri": "https://localhost:8080/"
        },
        "outputId": "d70a936c-f9d9-4b36-a78d-8ff8e0bcf263"
      },
      "execution_count": 1,
      "outputs": [
        {
          "output_type": "stream",
          "name": "stdout",
          "text": [
            "car tesla 100\n"
          ]
        }
      ]
    },
    {
      "cell_type": "code",
      "source": [
        "#ques4\n",
        "class Bird:\n",
        "    def fly(self):\n",
        "        print(\"Bird is flying.\")\n",
        "\n",
        "class Sparrow(Bird):\n",
        "    def fly(self):\n",
        "        print(\"Sparrow flies high.\")\n",
        "\n",
        "class Penguin(Bird):\n",
        "    def fly(self):\n",
        "        print(\"Penguins cannot fly.\")\n",
        "\n",
        "# Test\n",
        "for bird in [Sparrow(), Penguin()]:\n",
        "    bird.fly()"
      ],
      "metadata": {
        "colab": {
          "base_uri": "https://localhost:8080/"
        },
        "id": "Zc7su2IHqxOO",
        "outputId": "41cbb029-bc0d-42d6-c96f-065dc7653bde"
      },
      "execution_count": 2,
      "outputs": [
        {
          "output_type": "stream",
          "name": "stdout",
          "text": [
            "Sparrow flies high.\n",
            "Penguins cannot fly.\n"
          ]
        }
      ]
    },
    {
      "cell_type": "code",
      "source": [
        "#ques 5\n",
        "class BankAccount:\n",
        "    def __init__(self):\n",
        "        self.__balance = 0\n",
        "\n",
        "    def deposit(self, amount):\n",
        "        self.__balance += amount\n",
        "\n",
        "    def withdraw(self, amount):\n",
        "        if amount <= self.__balance:\n",
        "            self.__balance -= amount\n",
        "        else:\n",
        "            print(\"Insufficient funds.\")\n",
        "\n",
        "    def check_balance(self):\n",
        "        return self.__balance\n",
        "\n",
        "# Test\n",
        "account = BankAccount()\n",
        "account.deposit(1000)\n",
        "account.withdraw(300)\n",
        "print(account.check_balance())\n"
      ],
      "metadata": {
        "colab": {
          "base_uri": "https://localhost:8080/"
        },
        "id": "Ic7w6tIVrLsi",
        "outputId": "31683ea8-8912-4269-998c-b6ac3f1652cc"
      },
      "execution_count": 6,
      "outputs": [
        {
          "output_type": "stream",
          "name": "stdout",
          "text": [
            "700\n"
          ]
        }
      ]
    },
    {
      "cell_type": "code",
      "source": [
        "#ques6\n",
        "class Instrument:\n",
        "    def play(self):\n",
        "        print(\"Playing instrument\")\n",
        "\n",
        "class Guitar(Instrument):\n",
        "    def play(self):\n",
        "        print(\"Playing guitar\")\n",
        "\n",
        "class Piano(Instrument):\n",
        "    def play(self):\n",
        "        print(\"Playing piano\")\n",
        "\n",
        "# Test\n",
        "for inst in [Guitar(), Piano()]:\n",
        "    inst.play()"
      ],
      "metadata": {
        "colab": {
          "base_uri": "https://localhost:8080/"
        },
        "id": "YRWkUIZMrX1e",
        "outputId": "f3983325-5b0c-45a3-ffd3-1d5e720ddade"
      },
      "execution_count": 7,
      "outputs": [
        {
          "output_type": "stream",
          "name": "stdout",
          "text": [
            "Playing guitar\n",
            "Playing piano\n"
          ]
        }
      ]
    },
    {
      "cell_type": "code",
      "source": [
        "#ques7\n",
        "class MathOperations:\n",
        "    @classmethod\n",
        "    def add_numbers(cls, a, b):\n",
        "        return a + b\n",
        "\n",
        "    @staticmethod\n",
        "    def subtract_numbers(a, b):\n",
        "        return a - b\n",
        "\n",
        "# Test\n",
        "print(MathOperations.add_numbers(10, 5))\n",
        "print(MathOperations.subtract_numbers(10, 5))"
      ],
      "metadata": {
        "colab": {
          "base_uri": "https://localhost:8080/"
        },
        "id": "OXwR2WIDsAH6",
        "outputId": "3c16d06d-12ed-45ba-9c92-4194b59484dd"
      },
      "execution_count": 8,
      "outputs": [
        {
          "output_type": "stream",
          "name": "stdout",
          "text": [
            "15\n",
            "5\n"
          ]
        }
      ]
    },
    {
      "cell_type": "code",
      "source": [
        "#ques8\n",
        "class Person:\n",
        "    count = 0\n",
        "\n",
        "    def _init_(self):\n",
        "        Person.count += 1\n",
        "\n",
        "    @classmethod\n",
        "    def total_persons(cls):\n",
        "        return cls.count\n",
        "\n",
        "# Test\n",
        "p1 = Person()\n",
        "p2 = Person()\n",
        "print(Person.total_persons())"
      ],
      "metadata": {
        "colab": {
          "base_uri": "https://localhost:8080/"
        },
        "id": "NU8a-cEbsFDx",
        "outputId": "bb890a3c-c62d-4271-c186-5f059633673a"
      },
      "execution_count": 9,
      "outputs": [
        {
          "output_type": "stream",
          "name": "stdout",
          "text": [
            "0\n"
          ]
        }
      ]
    },
    {
      "cell_type": "code",
      "source": [
        "#ques9\n",
        "class Fraction:\n",
        "    def __init__(self, numerator, denominator):\n",
        "        self.numerator = numerator\n",
        "        self.denominator = denominator\n",
        "\n",
        "    def _str_(self):\n",
        "        return f\"{self.numerator}/{self.denominator}\"\n",
        "\n",
        "# Test\n",
        "f = Fraction(3, 4)\n",
        "print(f)"
      ],
      "metadata": {
        "colab": {
          "base_uri": "https://localhost:8080/"
        },
        "id": "2inBmARxsJov",
        "outputId": "32b8a2da-1d8d-40ff-d4c5-ac6796b21c4f"
      },
      "execution_count": 11,
      "outputs": [
        {
          "output_type": "stream",
          "name": "stdout",
          "text": [
            "<__main__.Fraction object at 0x7ca900077190>\n"
          ]
        }
      ]
    },
    {
      "cell_type": "code",
      "source": [
        "#ques10\n",
        "class Vector:\n",
        "    def __init__(self, x, y):\n",
        "        self.x = x\n",
        "        self.y = y\n",
        "\n",
        "    def __add__(self, other):\n",
        "        return Vector(self.x + other.x, self.y + other.y)\n",
        "\n",
        "    def __str__(self):\n",
        "        return f\"({self.x}, {self.y})\"\n",
        "\n",
        "# Test\n",
        "v1 = Vector(2, 3)\n",
        "v2 = Vector(1, 5)\n",
        "print(v1 + v2)"
      ],
      "metadata": {
        "colab": {
          "base_uri": "https://localhost:8080/"
        },
        "id": "Ozq8hqZusjxg",
        "outputId": "059b59f2-2fe3-4540-db65-5eb0f613424f"
      },
      "execution_count": 14,
      "outputs": [
        {
          "output_type": "stream",
          "name": "stdout",
          "text": [
            "(3, 8)\n"
          ]
        }
      ]
    },
    {
      "cell_type": "code",
      "source": [
        "#ques11\n",
        "class Person:\n",
        "    def __init__(self, name, age):\n",
        "        self.name = name\n",
        "        self.age = age\n",
        "\n",
        "    def greet(self):\n",
        "        print(f\"Hello, my name is {self.name} and I am {self.age} years old.\")\n",
        "\n",
        "# Test\n",
        "p = Person(\"Divya\", 20)\n",
        "p.greet()"
      ],
      "metadata": {
        "colab": {
          "base_uri": "https://localhost:8080/"
        },
        "id": "eSmA8T8Zszno",
        "outputId": "0296f068-82c8-4017-e7ca-2bcfe030b708"
      },
      "execution_count": 16,
      "outputs": [
        {
          "output_type": "stream",
          "name": "stdout",
          "text": [
            "Hello, my name is Divya and I am 20 years old.\n"
          ]
        }
      ]
    },
    {
      "cell_type": "code",
      "source": [
        "#ques12\n",
        "class Student:\n",
        "    def __init__(self, name, grades):\n",
        "        self.name = name\n",
        "        self.grades = grades\n",
        "\n",
        "    def average_grade(self):\n",
        "        return sum(self.grades) / len(self.grades)\n",
        "\n",
        "# Test\n",
        "s = Student(\"Aryan\", [85, 90, 78])\n",
        "print(s.average_grade())"
      ],
      "metadata": {
        "colab": {
          "base_uri": "https://localhost:8080/"
        },
        "id": "x64MUWFKtJ43",
        "outputId": "754546c6-429b-4318-a68e-771015b84cdb"
      },
      "execution_count": 17,
      "outputs": [
        {
          "output_type": "stream",
          "name": "stdout",
          "text": [
            "84.33333333333333\n"
          ]
        }
      ]
    },
    {
      "cell_type": "code",
      "source": [
        "#ques13\n",
        "class Rectangle:\n",
        "    def set_dimensions(self, length, width):\n",
        "        self.length = length\n",
        "        self.width = width\n",
        "\n",
        "    def area(self):\n",
        "        return self.length * self.width\n",
        "\n",
        "# Test\n",
        "r = Rectangle()\n",
        "r.set_dimensions(5, 4)\n",
        "print(r.area())"
      ],
      "metadata": {
        "colab": {
          "base_uri": "https://localhost:8080/"
        },
        "id": "5241N1RFtShi",
        "outputId": "4b308e6d-8050-4a9b-ee1e-06cf4aa79f76"
      },
      "execution_count": 18,
      "outputs": [
        {
          "output_type": "stream",
          "name": "stdout",
          "text": [
            "20\n"
          ]
        }
      ]
    },
    {
      "cell_type": "code",
      "source": [
        "#ques14\n",
        "class Employee:\n",
        "    def __init__(self, hours, rate):\n",
        "        self.hours = hours\n",
        "        self.rate = rate\n",
        "\n",
        "    def calculate_salary(self):\n",
        "        return self.hours * self.rate\n",
        "\n",
        "class Manager(Employee):\n",
        "    def __init__(self, hours, rate, bonus):\n",
        "        super().__init__(hours, rate)\n",
        "        self.bonus = bonus\n",
        "\n",
        "    def calculate_salary(self):\n",
        "        return super().calculate_salary() + self.bonus\n",
        "\n",
        "# Test\n",
        "e = Employee(40, 100)\n",
        "m = Manager(40, 100, 500)\n",
        "print(e.calculate_salary())  # Output: 4000\n",
        "print(m.calculate_salary())  # Output: 4500"
      ],
      "metadata": {
        "colab": {
          "base_uri": "https://localhost:8080/"
        },
        "id": "gfFw_9IktWBe",
        "outputId": "2c4ffc9c-181b-4f63-d9d5-274c06c996de"
      },
      "execution_count": 21,
      "outputs": [
        {
          "output_type": "stream",
          "name": "stdout",
          "text": [
            "4000\n",
            "4500\n"
          ]
        }
      ]
    },
    {
      "cell_type": "code",
      "source": [
        "#ques15\n",
        "class Product:\n",
        "    def __init__(self, name, price, quantity):\n",
        "        self.name = name\n",
        "        self.price = price\n",
        "        self.quantity = quantity\n",
        "\n",
        "    def total_price(self):\n",
        "        return self.price * self.quantity\n",
        "\n",
        "# Test\n",
        "p = Product(\"Laptop\", 50000, 2)\n",
        "print(p.total_price())  # Output: 100000"
      ],
      "metadata": {
        "colab": {
          "base_uri": "https://localhost:8080/"
        },
        "id": "j3SPwijJtZRm",
        "outputId": "ca9e8750-5c92-4095-a506-3274d44e1a9d"
      },
      "execution_count": 22,
      "outputs": [
        {
          "output_type": "stream",
          "name": "stdout",
          "text": [
            "100000\n"
          ]
        }
      ]
    },
    {
      "cell_type": "code",
      "source": [
        "#ques16\n",
        "from abc import ABC, abstractmethod\n",
        "\n",
        "class Animal(ABC):\n",
        "    @abstractmethod\n",
        "    def sound(self):\n",
        "        pass\n",
        "\n",
        "class Cow(Animal):\n",
        "    def sound(self):\n",
        "        return \"Moo\"\n",
        "\n",
        "class Sheep(Animal):\n",
        "    def sound(self):\n",
        "        return \"Baa\"\n",
        "\n",
        "# Test\n",
        "c = Cow()\n",
        "s = Sheep()\n",
        "print(c.sound())\n",
        "print(s.sound())"
      ],
      "metadata": {
        "colab": {
          "base_uri": "https://localhost:8080/"
        },
        "id": "r5Qx4m0At0Cl",
        "outputId": "cde555ff-28aa-4ed3-91e1-b27200dd9c67"
      },
      "execution_count": 23,
      "outputs": [
        {
          "output_type": "stream",
          "name": "stdout",
          "text": [
            "Moo\n",
            "Baa\n"
          ]
        }
      ]
    },
    {
      "cell_type": "code",
      "source": [
        "#ques17\n",
        "class Book:\n",
        "    def __init__(self, title, author, year_published):\n",
        "        self.title = title\n",
        "        self.author = author\n",
        "        self.year_published = year_published\n",
        "\n",
        "    def get_book_info(self):\n",
        "        return f\"'{self.title}' by {self.author}, published in {self.year_published}\"\n",
        "\n",
        "# Test\n",
        "b = Book(\"The Alchemist\", \"Paulo Coelho\", 1988)\n",
        "print(b.get_book_info())"
      ],
      "metadata": {
        "colab": {
          "base_uri": "https://localhost:8080/"
        },
        "id": "iVmDq7Cat3O5",
        "outputId": "275f0a3a-e7ed-4bea-a462-5adceeeb42e0"
      },
      "execution_count": 24,
      "outputs": [
        {
          "output_type": "stream",
          "name": "stdout",
          "text": [
            "'The Alchemist' by Paulo Coelho, published in 1988\n"
          ]
        }
      ]
    },
    {
      "cell_type": "code",
      "source": [
        "#ques18\n",
        "class House:\n",
        "    def __init__(self, address, price):\n",
        "        self.address = address\n",
        "        self.price = price\n",
        "\n",
        "class Mansion(House):\n",
        "    def __init__(self, address, price, number_of_rooms):\n",
        "        super().__init__(address, price)\n",
        "        self.number_of_rooms = number_of_rooms\n",
        "\n",
        "# Test\n",
        "m = Mansion(\"123 Luxury Lane\", 50000000, 10)\n",
        "print(m.address, m.price, m.number_of_rooms)"
      ],
      "metadata": {
        "colab": {
          "base_uri": "https://localhost:8080/"
        },
        "id": "FSX-w5JFt7mh",
        "outputId": "946d0b4d-e205-4392-cdb4-73acaaf60f77"
      },
      "execution_count": 25,
      "outputs": [
        {
          "output_type": "stream",
          "name": "stdout",
          "text": [
            "123 Luxury Lane 50000000 10\n"
          ]
        }
      ]
    },
    {
      "cell_type": "code",
      "source": [],
      "metadata": {
        "id": "D9OmDJKSuCCu"
      },
      "execution_count": null,
      "outputs": []
    }
  ]
}