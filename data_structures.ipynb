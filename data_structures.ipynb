{
  "nbformat": 4,
  "nbformat_minor": 0,
  "metadata": {
    "colab": {
      "provenance": []
    },
    "kernelspec": {
      "name": "python3",
      "display_name": "Python 3"
    },
    "language_info": {
      "name": "python"
    }
  },
  "cells": [
    {
      "cell_type": "markdown",
      "source": [
        "# **THEORATICAL ANSWERS**\n",
        "\n",
        "1. What are data structures, and why are they important?\n",
        "\n",
        "Data structures are ways of organizing and storing data so that it can be accessed and modified efficiently. They are crucial because they help in managing large amounts of data, optimizing algorithms, and improving performance in programs.\n",
        "\n",
        "2. Explain the difference between mutable and immutable data types with examples.\n",
        "\n",
        "Mutable data types can be changed after creation.\n",
        "Example: list, dict, set\n",
        "l = [1, 2, 3]\n",
        "l[0] = 100  # changes the first element\n",
        "\n",
        "Immutable data types cannot be changed after creation.\n",
        "Example: int, float, str, tuple\n",
        "\n",
        "s = \"hello\"\n",
        "s[0] = \"H\" → This would raise an error\n",
        "\n",
        "\n",
        "3. What are the main differences between lists and tuples in Python?\n",
        "\n",
        "Feature\t       List\t            Tuple\n",
        "Mutability\t   Mutable\t        Immutable\n",
        "Syntax\t       [1, 2, 3]        (1, 2, 3)\n",
        "Performance\t   Slower\t          Faster\n",
        "Use Case\t     Frequentupdates\tFixed data\n",
        "\n",
        "\n",
        "4. Describe how dictionaries store data.\n",
        "\n",
        "Dictionaries store data in key-value pairs. Each key is unique and maps to a value. Internally, dictionaries use hashing to allow fast access.\n",
        "\n",
        "d = {'name': 'Alice', 'age': 25}\n",
        "\n",
        "\n",
        "5. Why might you use a set instead of a list in Python?\n",
        "\n",
        "Sets are used when:\n",
        "\n",
        "You need unique elements.\n",
        "\n",
        "You want faster membership checks.\n",
        "\n",
        "You need to perform set operations like union, intersection.\n",
        "\n",
        "6. What is a string in Python, and how is it different from a list?\n",
        "\n",
        "A string is an immutable sequence of characters, while a list is a mutable sequence of elements. Strings cannot be changed after creation, lists can.\n",
        "\n",
        "7. How do tuples ensure data integrity in Python?\n",
        "\n",
        "Since tuples are immutable, once created, their data cannot be changed. This ensures that the data remains consistent and protected from accidental changes.\n",
        "\n",
        "8. What is a hash table, and how does it relate to dictionaries in Python?\n",
        "\n",
        "A hash table is a data structure that maps keys to values using a hashing function. Python’s dictionaries are implemented as hash tables internally, which allows constant-time complexity for lookups.\n",
        "\n",
        "9. Can lists contain different data types in Python?\n",
        "\n",
        "Yes, Python lists can contain elements of different data types.\n",
        "\n",
        "mixed_list = [1, \"hello\", 3.14, [1, 2]]\n",
        "\n",
        "10. Explain why strings are immutable in Python.\n",
        "\n",
        "Strings are immutable to:\n",
        "\n",
        "Enhance security and performance.\n",
        "\n",
        "Make strings hashable for use as dictionary keys.\n",
        "\n",
        "Avoid unexpected changes in shared data.\n",
        "\n",
        "11. What advantages do dictionaries offer over lists for certain tasks?\n",
        "\n",
        "Faster access using keys (O(1) time).\n",
        "\n",
        "Key-based indexing.\n",
        "\n",
        "Clearer code for mappings (e.g., storing student names with roll numbers).\n",
        "\n",
        "12. Describe a scenario where using a tuple would be preferable over a list.\n",
        "\n",
        "When data should not be changed, such as storing coordinates (x, y) or dates (year, month, day), tuples are better for immutability and performance.\n",
        "\n",
        "13. How do sets handle duplicate values in Python?\n",
        "\n",
        "Sets automatically remove duplicates. Only unique values are stored.\n",
        "\n",
        "s = {1, 2, 2, 3}\n",
        "print(s)  # Output: {1, 2, 3}\n",
        "\n",
        "14. How does the “in” keyword work differently for lists and dictionaries?\n",
        "\n",
        "In lists, in checks if an element exists.\n",
        "\n",
        "In dictionaries, in checks if a key exists (not value).\n",
        "\n",
        "\n",
        "3 in [1, 2, 3]  # True\n",
        "'name' in {'name': 'Alice'}  # True\n",
        "\n",
        "15. Can you modify the elements of a tuple? Explain why or why not.\n",
        "\n",
        "No, tuples are immutable, so once created, their elements cannot be changed. This helps ensure data integrity.\n",
        "\n",
        "16. What is a nested dictionary, and give an example of its use case?\n",
        "\n",
        "A nested dictionary is a dictionary inside another dictionary.\n",
        "Example:\n",
        "\n",
        "students = {\n",
        "    \"A101\": {\"name\": \"Alice\", \"marks\": 90},\n",
        "    \"A102\": {\"name\": \"Bob\", \"marks\": 85}\n",
        "}\n",
        "\n",
        "Useful for representing complex data like database records.\n",
        "\n",
        "17. Describe the time complexity of accessing elements in a dictionary.\n",
        "\n",
        "Accessing elements in a dictionary takes O(1) time on average due to hashing.\n",
        "\n",
        "18. In what situations are lists preferred over dictionaries?\n",
        "\n",
        "When order matters (until Python 3.6).\n",
        "\n",
        "When storing sequential data.\n",
        "\n",
        "When keys are not needed, only values.\n",
        "\n",
        "19. Why are dictionaries considered unordered, and how does that affect data retrieval?\n",
        "\n",
        "Before Python 3.7, dictionaries did not maintain insertion order. This meant data was retrieved in arbitrary order. From 3.7+, order is preserved, but it’s still not guaranteed for all use cases.\n",
        "\n",
        "20. Explain the difference between a list and a dictionary in terms of data retrieval.\n",
        "\n",
        "List: Access by index (position), slower for search (O(n)).\n",
        "\n",
        "Dictionary: Access by key, much faster (O(1)) for lookup.\n",
        "\n",
        "\n",
        "\n",
        "---"
      ],
      "metadata": {
        "id": "6sTgQPs-UcXN"
      }
    },
    {
      "cell_type": "code",
      "source": [
        "# practical answers\n",
        "#ques1\n",
        "name = \"divya bhatla\"\n",
        "print(name)"
      ],
      "metadata": {
        "colab": {
          "base_uri": "https://localhost:8080/"
        },
        "id": "Mmq96IHwWbR8",
        "outputId": "2a89fb76-37b8-46c4-fe0b-a337eef32fa7"
      },
      "execution_count": 1,
      "outputs": [
        {
          "output_type": "stream",
          "name": "stdout",
          "text": [
            "divya bhatla\n"
          ]
        }
      ]
    },
    {
      "cell_type": "code",
      "source": [
        "#ques2\n",
        "text = \"hello world\"\n",
        "print(len(text))"
      ],
      "metadata": {
        "colab": {
          "base_uri": "https://localhost:8080/"
        },
        "id": "otCx4aswWvjW",
        "outputId": "d0b6613e-0097-432b-a232-ee41260944a0"
      },
      "execution_count": 2,
      "outputs": [
        {
          "output_type": "stream",
          "name": "stdout",
          "text": [
            "11\n"
          ]
        }
      ]
    },
    {
      "cell_type": "code",
      "source": [
        "#ques3\n",
        "text = \"python programming\"\n",
        "print(text[:3])"
      ],
      "metadata": {
        "colab": {
          "base_uri": "https://localhost:8080/"
        },
        "id": "mIp6kbygW3GV",
        "outputId": "f56bfb52-7310-4b1f-92de-98472a71eda5"
      },
      "execution_count": 4,
      "outputs": [
        {
          "output_type": "stream",
          "name": "stdout",
          "text": [
            "pyt\n"
          ]
        }
      ]
    },
    {
      "cell_type": "code",
      "source": [
        "#ques4\n",
        "text = \"hello\"\n",
        "print(text.upper())"
      ],
      "metadata": {
        "colab": {
          "base_uri": "https://localhost:8080/"
        },
        "id": "zpK-fGawW-Eb",
        "outputId": "8d330340-cd2b-4e68-d37f-a9c81560a6c6"
      },
      "execution_count": 5,
      "outputs": [
        {
          "output_type": "stream",
          "name": "stdout",
          "text": [
            "HELLO\n"
          ]
        }
      ]
    },
    {
      "cell_type": "code",
      "source": [
        "#ques5\n",
        "text = \"i like apple\"\n",
        "new_text = text.replace(\"apple\", \"banana\")\n",
        "print(new_text)"
      ],
      "metadata": {
        "colab": {
          "base_uri": "https://localhost:8080/"
        },
        "id": "zyB7ulgkXIM7",
        "outputId": "ecc887ff-c22b-4e23-bc7a-a10e95efe652"
      },
      "execution_count": 6,
      "outputs": [
        {
          "output_type": "stream",
          "name": "stdout",
          "text": [
            "i like banana\n"
          ]
        }
      ]
    },
    {
      "cell_type": "code",
      "source": [
        "#ques6\n",
        "numbers = [1,2,3,4,5]\n",
        "print(numbers)"
      ],
      "metadata": {
        "colab": {
          "base_uri": "https://localhost:8080/"
        },
        "id": "rFC2qdL-XQAx",
        "outputId": "0ebcad8e-6cb2-4bea-875d-1f7d122191d5"
      },
      "execution_count": 7,
      "outputs": [
        {
          "output_type": "stream",
          "name": "stdout",
          "text": [
            "[1, 2, 3, 4, 5]\n"
          ]
        }
      ]
    },
    {
      "cell_type": "code",
      "source": [
        "#ques7\n",
        "num = [1,2,3,4]\n",
        "num.append(10)\n",
        "print(num)"
      ],
      "metadata": {
        "colab": {
          "base_uri": "https://localhost:8080/"
        },
        "id": "qB74yNj_XVjh",
        "outputId": "11535b8c-f239-45e5-be9a-b7ee47291f19"
      },
      "execution_count": 8,
      "outputs": [
        {
          "output_type": "stream",
          "name": "stdout",
          "text": [
            "[1, 2, 3, 4, 10]\n"
          ]
        }
      ]
    },
    {
      "cell_type": "code",
      "source": [
        "#ques8\n",
        "num = [1,2,3,4,5,]\n",
        "num.remove(3)\n",
        "print(num)"
      ],
      "metadata": {
        "colab": {
          "base_uri": "https://localhost:8080/"
        },
        "id": "X4HH0VR4XcjX",
        "outputId": "9433ccc8-8f57-47c7-946f-ca45d47ebfa4"
      },
      "execution_count": 9,
      "outputs": [
        {
          "output_type": "stream",
          "name": "stdout",
          "text": [
            "[1, 2, 4, 5]\n"
          ]
        }
      ]
    },
    {
      "cell_type": "code",
      "source": [
        "#ques9\n",
        "letters = ['a','b','c','d']\n",
        "print(letters[1])"
      ],
      "metadata": {
        "colab": {
          "base_uri": "https://localhost:8080/"
        },
        "id": "YQ8eAunXXjxk",
        "outputId": "a29e8bb9-24ca-46e7-8fa6-6d122c222f6b"
      },
      "execution_count": 11,
      "outputs": [
        {
          "output_type": "stream",
          "name": "stdout",
          "text": [
            "b\n"
          ]
        }
      ]
    },
    {
      "cell_type": "code",
      "source": [
        "#ques10\n",
        "num = [10,20,30,40,50]\n",
        "num.reverse()\n",
        "print(num)"
      ],
      "metadata": {
        "colab": {
          "base_uri": "https://localhost:8080/"
        },
        "id": "RPVcPXwpXnhE",
        "outputId": "189c2d62-4dd6-4600-8d75-56a45a3d7f2c"
      },
      "execution_count": 12,
      "outputs": [
        {
          "output_type": "stream",
          "name": "stdout",
          "text": [
            "[50, 40, 30, 20, 10]\n"
          ]
        }
      ]
    },
    {
      "cell_type": "code",
      "source": [
        "#ques11\n",
        "t = (100,200,300)\n",
        "print(t)"
      ],
      "metadata": {
        "colab": {
          "base_uri": "https://localhost:8080/"
        },
        "id": "-aBoTT2UX3Xx",
        "outputId": "6ed6504d-d9f0-4229-9fba-4c2ffe92477b"
      },
      "execution_count": 13,
      "outputs": [
        {
          "output_type": "stream",
          "name": "stdout",
          "text": [
            "(100, 200, 300)\n"
          ]
        }
      ]
    },
    {
      "cell_type": "code",
      "source": [
        "#ques12\n",
        "colors = ('red', 'green','blue','yellow')\n",
        "print(colors[-2])"
      ],
      "metadata": {
        "colab": {
          "base_uri": "https://localhost:8080/"
        },
        "id": "T44vZX-JZPtA",
        "outputId": "ebb8349b-5429-49a7-b1c5-cff8875f5695"
      },
      "execution_count": 14,
      "outputs": [
        {
          "output_type": "stream",
          "name": "stdout",
          "text": [
            "blue\n"
          ]
        }
      ]
    },
    {
      "cell_type": "code",
      "source": [
        "#ques13\n",
        "t = (10,20,5,15)\n",
        "print(min(t))"
      ],
      "metadata": {
        "colab": {
          "base_uri": "https://localhost:8080/"
        },
        "id": "LjcaZxbBZdU8",
        "outputId": "3f192705-ce95-426d-c805-33de128f97e6"
      },
      "execution_count": 15,
      "outputs": [
        {
          "output_type": "stream",
          "name": "stdout",
          "text": [
            "5\n"
          ]
        }
      ]
    },
    {
      "cell_type": "code",
      "source": [
        "#ques14\n",
        "animals = ('dog','cat','rabbit')\n",
        "print(animals.index('cat'))"
      ],
      "metadata": {
        "colab": {
          "base_uri": "https://localhost:8080/"
        },
        "id": "0vRk-WzSZnla",
        "outputId": "4d5765b4-036d-47f9-e663-c814c958a1b5"
      },
      "execution_count": 17,
      "outputs": [
        {
          "output_type": "stream",
          "name": "stdout",
          "text": [
            "1\n"
          ]
        }
      ]
    },
    {
      "cell_type": "code",
      "source": [
        "#ques15\n",
        "fruits = ('apple','banana','kiwi')\n",
        "print('kiwi' in fruits)\n"
      ],
      "metadata": {
        "colab": {
          "base_uri": "https://localhost:8080/"
        },
        "id": "WH66J1rhZx3k",
        "outputId": "e387fa64-beae-4deb-aacf-5c579c6de0f5"
      },
      "execution_count": 18,
      "outputs": [
        {
          "output_type": "stream",
          "name": "stdout",
          "text": [
            "True\n"
          ]
        }
      ]
    },
    {
      "cell_type": "code",
      "source": [
        "#ques16\n",
        "s = {'a','b','c'}\n",
        "print(s)"
      ],
      "metadata": {
        "colab": {
          "base_uri": "https://localhost:8080/"
        },
        "id": "5yc6q7EmaCkT",
        "outputId": "8cb3af32-fe37-4763-ebcd-f33c903cd737"
      },
      "execution_count": 19,
      "outputs": [
        {
          "output_type": "stream",
          "name": "stdout",
          "text": [
            "{'a', 'b', 'c'}\n"
          ]
        }
      ]
    },
    {
      "cell_type": "code",
      "source": [
        "#ques17\n",
        "s ={1,2,3,4,5}\n",
        "s.clear()\n",
        "print(s)"
      ],
      "metadata": {
        "colab": {
          "base_uri": "https://localhost:8080/"
        },
        "id": "WmxQL1jYaKxd",
        "outputId": "1303e5e8-d384-4670-b514-e6eb72f4c7f1"
      },
      "execution_count": 20,
      "outputs": [
        {
          "output_type": "stream",
          "name": "stdout",
          "text": [
            "set()\n"
          ]
        }
      ]
    },
    {
      "cell_type": "code",
      "source": [
        "#ques18\n",
        "s ={1,2,3,4}\n",
        "s.remove(4)\n",
        "print(s)"
      ],
      "metadata": {
        "colab": {
          "base_uri": "https://localhost:8080/"
        },
        "id": "A3VA1ZzOaRoV",
        "outputId": "3dd48ab5-a7e8-4cc1-f6ac-5b8c87e2eaf0"
      },
      "execution_count": 21,
      "outputs": [
        {
          "output_type": "stream",
          "name": "stdout",
          "text": [
            "{1, 2, 3}\n"
          ]
        }
      ]
    },
    {
      "cell_type": "code",
      "source": [
        "#ques19\n",
        "a ={1,2,3}\n",
        "b ={3,4,5}\n",
        "print(a.union(b))"
      ],
      "metadata": {
        "colab": {
          "base_uri": "https://localhost:8080/"
        },
        "id": "tHt4TdfraXmV",
        "outputId": "bfb11fef-790c-47f8-9c0c-d098b3c583d9"
      },
      "execution_count": 22,
      "outputs": [
        {
          "output_type": "stream",
          "name": "stdout",
          "text": [
            "{1, 2, 3, 4, 5}\n"
          ]
        }
      ]
    },
    {
      "cell_type": "code",
      "source": [
        "#ques20\n",
        "a ={1,2,3}\n",
        "b ={3,4,5}\n",
        "print(a.intersection(b))\n"
      ],
      "metadata": {
        "colab": {
          "base_uri": "https://localhost:8080/"
        },
        "id": "ULqUgzy-agyJ",
        "outputId": "87af0155-d6eb-45b9-f329-695cafc412fc"
      },
      "execution_count": 23,
      "outputs": [
        {
          "output_type": "stream",
          "name": "stdout",
          "text": [
            "{3}\n"
          ]
        }
      ]
    },
    {
      "cell_type": "code",
      "source": [
        "#ques21\n",
        "person = {\"name\":\"john\",\"age\":34,\"city\":\"delhi\"}\n",
        "print(person)"
      ],
      "metadata": {
        "colab": {
          "base_uri": "https://localhost:8080/"
        },
        "id": "-bywzhfjanOy",
        "outputId": "6b00dc33-1f64-4468-bf2f-f6cb5e1548b5"
      },
      "execution_count": 26,
      "outputs": [
        {
          "output_type": "stream",
          "name": "stdout",
          "text": [
            "{'name': 'john', 'age': 34, 'city': 'delhi'}\n"
          ]
        }
      ]
    },
    {
      "cell_type": "code",
      "source": [
        "#ques22\n",
        "person = {\"name\":\"john\",\"age\":34}\n",
        "person['country']= 'USA'\n",
        "print(person)"
      ],
      "metadata": {
        "colab": {
          "base_uri": "https://localhost:8080/"
        },
        "id": "tpkNAklpaxSy",
        "outputId": "74258fda-9b1c-4957-eef5-2fdb36a56a38"
      },
      "execution_count": 27,
      "outputs": [
        {
          "output_type": "stream",
          "name": "stdout",
          "text": [
            "{'name': 'john', 'age': 34, 'country': 'USA'}\n"
          ]
        }
      ]
    },
    {
      "cell_type": "code",
      "source": [
        "#ques23\n",
        "person = {'name':'alice','age':30}\n",
        "print(person['name'])"
      ],
      "metadata": {
        "colab": {
          "base_uri": "https://localhost:8080/"
        },
        "id": "wxoRntgBbGhQ",
        "outputId": "16990e75-4f79-4fc1-e53b-13e26e88c961"
      },
      "execution_count": 28,
      "outputs": [
        {
          "output_type": "stream",
          "name": "stdout",
          "text": [
            "alice\n"
          ]
        }
      ]
    },
    {
      "cell_type": "code",
      "source": [
        "#ques24\n",
        "person = {'name':'bob','age':22,'city': 'new york'}\n",
        "del person['age']\n",
        "print(person)"
      ],
      "metadata": {
        "colab": {
          "base_uri": "https://localhost:8080/"
        },
        "id": "izC6yD-MbTEp",
        "outputId": "6711ef02-847b-4f9f-db55-8b8139ed574f"
      },
      "execution_count": 29,
      "outputs": [
        {
          "output_type": "stream",
          "name": "stdout",
          "text": [
            "{'name': 'bob', 'city': 'new york'}\n"
          ]
        }
      ]
    },
    {
      "cell_type": "code",
      "source": [
        "#ques25\n",
        "person = {'name':'alice','city':'paris'}\n",
        "print('city' in person)"
      ],
      "metadata": {
        "colab": {
          "base_uri": "https://localhost:8080/"
        },
        "id": "USrU3oKsbl5J",
        "outputId": "84a98587-9373-41af-969e-a97f2a4463ea"
      },
      "execution_count": 30,
      "outputs": [
        {
          "output_type": "stream",
          "name": "stdout",
          "text": [
            "True\n"
          ]
        }
      ]
    },
    {
      "cell_type": "code",
      "source": [
        "#ques26\n",
        "my_list = [1,2,3]\n",
        "my_tuple = (4,5,6)\n",
        "my_dict = {'a':7,'b':8}\n",
        "print(my_list)\n",
        "print(my_tuple)\n",
        "print(my_dict)"
      ],
      "metadata": {
        "colab": {
          "base_uri": "https://localhost:8080/"
        },
        "id": "mO16vGIrbymV",
        "outputId": "461915a1-05aa-4574-bcb5-b34da0bab479"
      },
      "execution_count": 31,
      "outputs": [
        {
          "output_type": "stream",
          "name": "stdout",
          "text": [
            "[1, 2, 3]\n",
            "(4, 5, 6)\n",
            "{'a': 7, 'b': 8}\n"
          ]
        }
      ]
    },
    {
      "cell_type": "code",
      "source": [
        "#ques27\n",
        "import random\n",
        "num = random.sample(range(1,101),5)\n",
        "num.sort()\n",
        "print(num)"
      ],
      "metadata": {
        "colab": {
          "base_uri": "https://localhost:8080/"
        },
        "id": "stvGorNdb-e3",
        "outputId": "6ae9af1b-7058-4990-d0d2-831746a7fd43"
      },
      "execution_count": 33,
      "outputs": [
        {
          "output_type": "stream",
          "name": "stdout",
          "text": [
            "[20, 37, 39, 63, 66]\n"
          ]
        }
      ]
    },
    {
      "cell_type": "code",
      "source": [
        "#ques28\n",
        "words = ['apple','banana','cherry','date','fig']\n",
        "print(words[3])"
      ],
      "metadata": {
        "colab": {
          "base_uri": "https://localhost:8080/"
        },
        "id": "PLtvZsnlcRHy",
        "outputId": "e51c0488-b522-4f8d-c830-370bf9bfae7a"
      },
      "execution_count": 34,
      "outputs": [
        {
          "output_type": "stream",
          "name": "stdout",
          "text": [
            "date\n"
          ]
        }
      ]
    },
    {
      "cell_type": "code",
      "source": [
        "#ques29\n",
        "d1 = {'a':1,'b':2}\n",
        "d2 = {'d':3,'e':4}\n",
        "combined = {**d1,**d2}\n",
        "print(combined)"
      ],
      "metadata": {
        "colab": {
          "base_uri": "https://localhost:8080/"
        },
        "id": "QfgPL_Omcifj",
        "outputId": "2afc2a21-0258-46eb-ff18-563991a28812"
      },
      "execution_count": 35,
      "outputs": [
        {
          "output_type": "stream",
          "name": "stdout",
          "text": [
            "{'a': 1, 'b': 2, 'd': 3, 'e': 4}\n"
          ]
        }
      ]
    },
    {
      "cell_type": "code",
      "source": [
        "#ques30\n",
        "words = ['apple','banana','apple','orange']\n",
        "words_set = set(words)\n",
        "print(words_set)"
      ],
      "metadata": {
        "colab": {
          "base_uri": "https://localhost:8080/"
        },
        "id": "hjStT-wic4ng",
        "outputId": "978b1e2b-f977-4c81-ac79-e748e710c004"
      },
      "execution_count": 36,
      "outputs": [
        {
          "output_type": "stream",
          "name": "stdout",
          "text": [
            "{'orange', 'apple', 'banana'}\n"
          ]
        }
      ]
    },
    {
      "cell_type": "code",
      "source": [],
      "metadata": {
        "id": "CJoQ72lzdFDq"
      },
      "execution_count": null,
      "outputs": []
    }
  ]
}